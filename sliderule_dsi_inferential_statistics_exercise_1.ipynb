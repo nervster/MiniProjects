{
 "cells": [
  {
   "cell_type": "markdown",
   "metadata": {},
   "source": [
    "# What is the True Normal Human Body Temperature? \n",
    "\n",
    "#### Background\n",
    "\n",
    "The mean normal body temperature was held to be 37$^{\\circ}$C or 98.6$^{\\circ}$F for more than 120 years since it was first conceptualized and reported by Carl Wunderlich in a famous 1868 book. But, is this value statistically correct?"
   ]
  },
  {
   "cell_type": "markdown",
   "metadata": {},
   "source": [
    "<h3>Exercises</h3>\n",
    "\n",
    "<p>In this exercise, you will analyze a dataset of human body temperatures and employ the concepts of hypothesis testing, confidence intervals, and statistical significance.</p>\n",
    "\n",
    "<p>Answer the following questions <b>in this notebook below and submit to your Github account</b>.</p> \n",
    "\n",
    "<ol>\n",
    "<li>  Is the distribution of body temperatures normal? \n",
    "    <ul>\n",
    "    <li> Although this is not a requirement for the Central Limit Theorem to hold (read the introduction on Wikipedia's page about the CLT carefully: https://en.wikipedia.org/wiki/Central_limit_theorem), it gives us some peace of mind that the population may also be normally distributed if we assume that this sample is representative of the population.\n",
    "    <li> Think about the way you're going to check for the normality of the distribution. Graphical methods are usually used first, but there are also other ways: https://en.wikipedia.org/wiki/Normality_test\n",
    "    </ul>\n",
    "<li>  Is the sample size large? Are the observations independent?\n",
    "    <ul>\n",
    "    <li> Remember that this is a condition for the Central Limit Theorem, and hence the statistical tests we are using, to apply.\n",
    "    </ul>\n",
    "<li>  Is the true population mean really 98.6 degrees F?\n",
    "    <ul>\n",
    "    <li> First, try a bootstrap hypothesis test.\n",
    "    <li> Now, let's try frequentist statistical testing. Would you use a one-sample or two-sample test? Why?\n",
    "    <li> In this situation, is it appropriate to use the $t$ or $z$ statistic? \n",
    "    <li> Now try using the other test. How is the result be different? Why?\n",
    "    </ul>\n",
    "<li>  Draw a small sample of size 10 from the data and repeat both frequentist tests. \n",
    "    <ul>\n",
    "    <li> Which one is the correct one to use? \n",
    "    <li> What do you notice? What does this tell you about the difference in application of the $t$ and $z$ statistic?\n",
    "    </ul>\n",
    "<li>  At what temperature should we consider someone's temperature to be \"abnormal\"?\n",
    "    <ul>\n",
    "    <li> As in the previous example, try calculating everything using the boostrap approach, as well as the frequentist approach.\n",
    "    <li> Start by computing the margin of error and confidence interval. When calculating the confidence interval, keep in mind that you should use the appropriate formula for one draw, and not N draws.\n",
    "    </ul>\n",
    "<li>  Is there a significant difference between males and females in normal temperature?\n",
    "    <ul>\n",
    "    <li> What testing approach did you use and why?\n",
    "    <li> Write a story with your conclusion in the context of the original problem.\n",
    "    </ul>\n",
    "</ol>\n",
    "\n",
    "You can include written notes in notebook cells using Markdown: \n",
    "   - In the control panel at the top, choose Cell > Cell Type > Markdown\n",
    "   - Markdown syntax: http://nestacms.com/docs/creating-content/markdown-cheat-sheet\n",
    "\n",
    "#### Resources\n",
    "\n",
    "+ Information and data sources: http://www.amstat.org/publications/jse/datasets/normtemp.txt, http://www.amstat.org/publications/jse/jse_data_archive.htm\n",
    "+ Markdown syntax: http://nestacms.com/docs/creating-content/markdown-cheat-sheet\n",
    "\n",
    "****"
   ]
  },
  {
   "cell_type": "code",
   "execution_count": 1,
   "metadata": {},
   "outputs": [
    {
     "data": {
      "text/html": [
       "<div>\n",
       "<style scoped>\n",
       "    .dataframe tbody tr th:only-of-type {\n",
       "        vertical-align: middle;\n",
       "    }\n",
       "\n",
       "    .dataframe tbody tr th {\n",
       "        vertical-align: top;\n",
       "    }\n",
       "\n",
       "    .dataframe thead th {\n",
       "        text-align: right;\n",
       "    }\n",
       "</style>\n",
       "<table border=\"1\" class=\"dataframe\">\n",
       "  <thead>\n",
       "    <tr style=\"text-align: right;\">\n",
       "      <th></th>\n",
       "      <th>temperature</th>\n",
       "      <th>gender</th>\n",
       "      <th>heart_rate</th>\n",
       "    </tr>\n",
       "  </thead>\n",
       "  <tbody>\n",
       "    <tr>\n",
       "      <th>0</th>\n",
       "      <td>99.3</td>\n",
       "      <td>F</td>\n",
       "      <td>68.0</td>\n",
       "    </tr>\n",
       "    <tr>\n",
       "      <th>1</th>\n",
       "      <td>98.4</td>\n",
       "      <td>F</td>\n",
       "      <td>81.0</td>\n",
       "    </tr>\n",
       "    <tr>\n",
       "      <th>2</th>\n",
       "      <td>97.8</td>\n",
       "      <td>M</td>\n",
       "      <td>73.0</td>\n",
       "    </tr>\n",
       "    <tr>\n",
       "      <th>3</th>\n",
       "      <td>99.2</td>\n",
       "      <td>F</td>\n",
       "      <td>66.0</td>\n",
       "    </tr>\n",
       "    <tr>\n",
       "      <th>4</th>\n",
       "      <td>98.0</td>\n",
       "      <td>F</td>\n",
       "      <td>73.0</td>\n",
       "    </tr>\n",
       "  </tbody>\n",
       "</table>\n",
       "</div>"
      ],
      "text/plain": [
       "   temperature gender  heart_rate\n",
       "0         99.3      F        68.0\n",
       "1         98.4      F        81.0\n",
       "2         97.8      M        73.0\n",
       "3         99.2      F        66.0\n",
       "4         98.0      F        73.0"
      ]
     },
     "execution_count": 1,
     "metadata": {},
     "output_type": "execute_result"
    }
   ],
   "source": [
    "import pandas as pd\n",
    "import matplotlib.pyplot as plt\n",
    "import numpy as np\n",
    "from statsmodels.distributions.empirical_distribution import ECDF\n",
    "from scipy.stats import norm\n",
    "import scipy.stats as stats\n",
    "\n",
    "df = pd.read_csv('data/human_body_temperature.csv')\n",
    "df.head()"
   ]
  },
  {
   "cell_type": "markdown",
   "metadata": {},
   "source": [
    "## Is the Distribution Normal? \n"
   ]
  },
  {
   "cell_type": "code",
   "execution_count": 2,
   "metadata": {},
   "outputs": [
    {
     "data": {
      "image/png": "[encoded data removed]",
      "text/plain": [
       "<Figure size 432x288 with 1 Axes>"
      ]
     },
     "metadata": {},
     "output_type": "display_data"
    }
   ],
   "source": [
    "plt.hist(df.temperature,density=True,bins=10)\n",
    "plt.show()"
   ]
  },
  {
   "cell_type": "code",
   "execution_count": 3,
   "metadata": {},
   "outputs": [],
   "source": [
    "def ecdf(data):\n",
    "    \"\"\"Compute ECDF for a one-dimensional array of measurements.\"\"\"\n",
    "    # Number of data points: n\n",
    "    n = len(data)\n",
    "\n",
    "    # x-data for the ECDF: x\n",
    "    x = np.sort(data)\n",
    "\n",
    "    # y-data for the ECDF: y\n",
    "    y = np.arange(1, len(x)+1) / n\n",
    "\n",
    "    return x, y"
   ]
  },
  {
   "cell_type": "code",
   "execution_count": 4,
   "metadata": {},
   "outputs": [
    {
     "data": {
      "image/png": "[encoded data removed]",
      "text/plain": [
       "<Figure size 432x288 with 1 Axes>"
      ]
     },
     "metadata": {},
     "output_type": "display_data"
    }
   ],
   "source": [
    "mu_temp = np.mean(df.temperature)\n",
    "sigma_temp = np.std(df.temperature)\n",
    "\n",
    "samples = np.random.normal(mu_temp,sigma_temp,size=10000)\n",
    "x_sample, y_sample = ecdf(samples)\n",
    "x,y = ecdf(df.temperature)\n",
    "\n",
    "_ = plt.plot(x_sample, y_sample)\n",
    "_ = plt.plot(x, y, marker='.', linestyle='none')\n",
    "_ = plt.xlabel('Temperature')\n",
    "_ = plt.ylabel('CDF')\n",
    "plt.show()"
   ]
  },
  {
   "cell_type": "markdown",
   "metadata": {},
   "source": [
    "# Using the Normaltest, the p value is above 5%, thus proving that this is a normal distribution."
   ]
  },
  {
   "cell_type": "code",
   "execution_count": 5,
   "metadata": {},
   "outputs": [
    {
     "name": "stdout",
     "output_type": "stream",
     "text": [
      "Normal Distribution\n",
      "P Value:  0.2587479863488254\n"
     ]
    }
   ],
   "source": [
    "k2,p=stats.normaltest(df.temperature)\n",
    "\n",
    "if p >.05:\n",
    "    print(\"Normal Distribution\")\n",
    "    print(\"P Value: \",p)\n",
    "else:\n",
    "    print(\"Not Normal Distribution\")\n",
    "    print(\"P Value: \",p)"
   ]
  },
  {
   "cell_type": "markdown",
   "metadata": {},
   "source": [
    "# Is the sample size large? Are the observations independent?\n",
    "\n",
    "Sample size > 30 and the samples are independent as long as they are taken from 130 different people. \n"
   ]
  },
  {
   "cell_type": "code",
   "execution_count": 6,
   "metadata": {},
   "outputs": [
    {
     "data": {
      "text/plain": [
       "130"
      ]
     },
     "execution_count": 6,
     "metadata": {},
     "output_type": "execute_result"
    }
   ],
   "source": [
    "len(df.temperature)"
   ]
  },
  {
   "cell_type": "markdown",
   "metadata": {},
   "source": [
    "## Is the true population mean really 98.6 degrees F?\n",
    "First, try a bootstrap hypothesis test.\n",
    "    H0: True population mean is 98.6\n",
    "    Ha: True popluation != 98.6\n",
    "\n",
    "\n",
    "\n",
    "Now, let's try frequentist statistical testing. Would you use a one-sample or two-sample test? Why?\n",
    "    Use a 1-sample test because we are only comparing the sample mean to the population mean, instead of 2 samples together. \n",
    "\n",
    "In this situation, is it appropriate to use the  t  or  z  statistic?\n",
    "    It is more appropriate to use the z test, but they will yield the same result because N is greater than 30.\n",
    "    "
   ]
  },
  {
   "cell_type": "code",
   "execution_count": 7,
   "metadata": {},
   "outputs": [],
   "source": [
    "# Bootstrap \n",
    "def draw_bs_reps(data, func, size=1):\n",
    "    \"\"\"Draw bootstrap replicates.\"\"\"\n",
    "\n",
    "    # Initialize array of replicates: bs_replicates\n",
    "    bs_replicates = np.empty(size)\n",
    "\n",
    "    # Generate replicates\n",
    "    for i in range(size):\n",
    "        bs_replicates[i] = func(np.random.choice(data, size=len(data)))\n",
    "\n",
    "    return bs_replicates\n"
   ]
  },
  {
   "cell_type": "code",
   "execution_count": 8,
   "metadata": {},
   "outputs": [
    {
     "data": {
      "image/png": "[encoded data removed]",
      "text/plain": [
       "<Figure size 432x288 with 1 Axes>"
      ]
     },
     "metadata": {},
     "output_type": "display_data"
    },
    {
     "name": "stdout",
     "output_type": "stream",
     "text": [
      "Bootstrap STD:  0.06350726695365716\n",
      "SEM:  0.06405661469519336\n"
     ]
    }
   ],
   "source": [
    "temp_bs_rep = draw_bs_reps(df.temperature,np.mean,size=10000)\n",
    "\n",
    "plt.hist(temp_bs_rep,bins=50,density=True)\n",
    "plt.show()\n",
    "\n",
    "print(\"Bootstrap STD: \", str(np.std(temp_bs_rep)))\n",
    "print(\"SEM: \", str(np.std(df.temperature)/np.sqrt(len(df.temperature))))"
   ]
  },
  {
   "cell_type": "code",
   "execution_count": 9,
   "metadata": {},
   "outputs": [
    {
     "name": "stdout",
     "output_type": "stream",
     "text": [
      "[98.12615385 98.37461538]\n",
      "0.0\n"
     ]
    }
   ],
   "source": [
    "print(np.percentile(temp_bs_rep,[2.5,97.5]))\n",
    "\n",
    "print(np.sum(temp_bs_rep >= 98.6)/len(temp_bs_rep))"
   ]
  },
  {
   "cell_type": "code",
   "execution_count": 11,
   "metadata": {},
   "outputs": [
    {
     "name": "stdout",
     "output_type": "stream",
     "text": [
      "Reject H0 hypothesis.\n",
      "P Value:  0.0\n"
     ]
    }
   ],
   "source": [
    "#translate Mean to 98.6 to test hypothesis\n",
    "translated_temp = df.temperature - np.mean(df.temperature) + 98.6\n",
    "bs_replicates = draw_bs_reps(translated_temp, np.mean, 10000)\n",
    "p = np.sum(bs_replicates <= np.mean(df.temperature)) / 10000\n",
    "\n",
    "if p < .05:\n",
    "    print(\"Reject H0 hypothesis.\") \n",
    "    print(\"P Value: \", p)\n",
    "else:\n",
    "    print(\"H0 is failed to be rejected\")\n",
    "    print(\"P Value: \", p)"
   ]
  },
  {
   "cell_type": "code",
   "execution_count": 13,
   "metadata": {},
   "outputs": [],
   "source": [
    "# Temperature Descriptive Stats\n",
    "\n",
    "std = np.std(df.temperature)\n",
    "mean = np.mean(df.temperature)\n",
    "length = len(df.temperature)"
   ]
  },
  {
   "cell_type": "code",
   "execution_count": 14,
   "metadata": {
    "scrolled": true
   },
   "outputs": [
    {
     "data": {
      "text/plain": [
       "-5.475925202078116"
      ]
     },
     "execution_count": 14,
     "metadata": {},
     "output_type": "execute_result"
    }
   ],
   "source": [
    "#Z-Value\n",
    "\n",
    "z_value = (mean-98.6)/(std/length**.5)\n",
    "z_value"
   ]
  },
  {
   "cell_type": "code",
   "execution_count": 15,
   "metadata": {},
   "outputs": [
    {
     "data": {
      "text/plain": [
       "4.3523151658821886e-08"
      ]
     },
     "execution_count": 15,
     "metadata": {},
     "output_type": "execute_result"
    }
   ],
   "source": [
    "PValue = stats.norm.cdf(z_value) * 2\n",
    "PValue"
   ]
  },
  {
   "cell_type": "code",
   "execution_count": 16,
   "metadata": {},
   "outputs": [
    {
     "name": "stdout",
     "output_type": "stream",
     "text": [
      "Z Test Results:\n",
      "Reject H0 hypothesis.\n"
     ]
    }
   ],
   "source": [
    "print(\"Z Test Results:\")\n",
    "\n",
    "if PValue < .05:\n",
    "    print(\"Reject H0 hypothesis.\")\n",
    "    \n",
    "else:\n",
    "    print(\"H0 is failed to be rejected\")\n",
    "    \n",
    "    \n",
    "    "
   ]
  },
  {
   "cell_type": "code",
   "execution_count": 17,
   "metadata": {},
   "outputs": [
    {
     "name": "stdout",
     "output_type": "stream",
     "text": [
      "T Value Margin of Error  0.12673758101436725\n",
      "Z Value Margin of Error  0.12554865777413815\n"
     ]
    }
   ],
   "source": [
    "#compute Margin of Error for T Value and Z Value\n",
    "critical_t_value = stats.t.ppf(1-.025,129)\n",
    "tval_moe = critical_t_value*std/np.sqrt(length)\n",
    "\n",
    "critical_z_value = stats.norm.ppf(.975)\n",
    "zval_moe = std*critical_z_value/np.sqrt(length)\n",
    "\n",
    "print(\"T Value Margin of Error \", tval_moe)\n",
    "print(\"Z Value Margin of Error \", zval_moe)"
   ]
  },
  {
   "cell_type": "code",
   "execution_count": 18,
   "metadata": {},
   "outputs": [],
   "source": [
    "# Range of true mean using z-statistic with 95% confidence level\n",
    "mean_z_lower=mean-zval_moe\n",
    "mean_z_upper=mean+zval_moe\n",
    "\n",
    "# Range of true mean using t- statistic with 95% confidence level, n=130 so degrees of freedom=129\n",
    "mean_t_lower=mean-tval_moe\n",
    "mean_t_upper=mean+tval_moe"
   ]
  },
  {
   "cell_type": "code",
   "execution_count": 19,
   "metadata": {},
   "outputs": [
    {
     "name": "stdout",
     "output_type": "stream",
     "text": [
      "Using z-test with 95% conf. level, range of true mean is  98.12  F to  98.37  F.\n",
      "Using t-test with 95% conf. level, range of true mean is  98.12  F to  98.38  F.\n"
     ]
    }
   ],
   "source": [
    "print(\"Using z-test with 95% conf. level, range of true mean is \", \n",
    "      round(mean_z_lower,2), \" F to \", round(mean_z_upper,2), \" F.\")\n",
    "\n",
    "print(\"Using t-test with 95% conf. level, range of true mean is \", \n",
    "      round(mean_t_lower,2), \" F to \", round(mean_t_upper,2), \" F.\")"
   ]
  },
  {
   "cell_type": "markdown",
   "metadata": {},
   "source": [
    "When sample size decreases to 10, we must use a t-test to test hypothesis. This tells us that t-test gives a larger chance for the true mean to be within confidence interval."
   ]
  },
  {
   "cell_type": "code",
   "execution_count": 73,
   "metadata": {},
   "outputs": [
    {
     "name": "stdout",
     "output_type": "stream",
     "text": [
      "H0 is failed to be rejected\n",
      "P Value:  0.8783333736564977\n"
     ]
    }
   ],
   "source": [
    "smallsample_replicates = np.random.choice(df.temperature,10)\n",
    "#draw_bs_reps(translated_temp, np.mean, 10)\n",
    "ss_mean = np.mean(smallsample_replicates)\n",
    "ss_std = np.std(smallsample_replicates)\n",
    "ss_len = len(smallsample_replicates)\n",
    "\n",
    "t_val = (ss_mean-98.6)/(ss_std/ss_len**.5)\n",
    "p = 1 - stats.t.cdf(t_val,df=ss_len-1)\n",
    "\n",
    "\n",
    "if p < .05:\n",
    "    print(\"Reject H0 hypothesis.\") \n",
    "    print(\"P Value: \", p)\n",
    "else:\n",
    "    print(\"H0 is failed to be rejected\")\n",
    "    print(\"P Value: \", p)\n",
    "    \n",
    "    \n"
   ]
  },
  {
   "cell_type": "code",
   "execution_count": 80,
   "metadata": {},
   "outputs": [
    {
     "name": "stdout",
     "output_type": "stream",
     "text": [
      "Reject H0 hypothesis.\n",
      "P Value:  0.0036305697311657483\n"
     ]
    }
   ],
   "source": [
    "smallsample_replicates = np.random.choice(df.temperature,10)\n",
    "ss_mean = np.mean(smallsample_replicates)\n",
    "ss_std = np.std(smallsample_replicates)\n",
    "ss_len = len(smallsample_replicates)\n",
    "\n",
    "z_val = (ss_mean-98.6)/(ss_std/ss_len**.5)\n",
    "p = stats.norm.cdf(z_val)\n",
    "\n",
    "if p < .05:\n",
    "    print(\"Reject H0 hypothesis.\") \n",
    "    print(\"P Value: \", p)\n",
    "else:\n",
    "    print(\"H0 is failed to be rejected\")\n",
    "    print(\"P Value: \", p)\n",
    "    "
   ]
  },
  {
   "cell_type": "markdown",
   "metadata": {},
   "source": [
    "# At what temperature should we consider someone's temperature to be \"abnormal\"?\n",
    "\n",
    "As in the previous example, try calculating everything using the boostrap approach, as well as the frequentist approach.\n",
    "Start by computing the margin of error and confidence interval. When calculating the confidence interval, keep in mind that you should use the appropriate formula for one draw, and not N draws."
   ]
  },
  {
   "cell_type": "code",
   "execution_count": 82,
   "metadata": {},
   "outputs": [
    {
     "name": "stdout",
     "output_type": "stream",
     "text": [
      "Bootstrap Margin of Error:  0.018047595974218813\n",
      "Normal temperature range is  98.23  to  98.27 F.\n"
     ]
    }
   ],
   "source": [
    "#Bootstrap\n",
    "Critical_value = 1.645\n",
    "SEM = np.std(bs_replicates)/np.sqrt(len(df.temperature))\n",
    "bs_replicates = draw_bs_reps(df.temperature,np.mean,size=10000)\n",
    "\n",
    "MarginOfError = Critical_value * SEM\n",
    "print(\"Bootstrap Margin of Error: \", MarginOfError)\n",
    "mean_upper = np.mean(bs_replicates)+MarginOfError\n",
    "mean_lower = np.mean(bs_replicates)-MarginOfError\n",
    "\n",
    "print(\"Normal temperature range is \", round(mean_lower,2), \" to \", round(mean_upper,2), \"F.\")"
   ]
  },
  {
   "cell_type": "code",
   "execution_count": null,
   "metadata": {},
   "outputs": [],
   "source": [
    "#compute Margin of Error for T Value and Z Value\n",
    "critical_t_value = stats.t.ppf(1-.025,129)\n",
    "tval_moe = critical_t_value*std/np.sqrt(length)\n",
    "\n",
    "critical_z_value = stats.norm.ppf(.975)\n",
    "zval_moe = std*critical_z_value/np.sqrt(length)\n",
    "\n",
    "mean_z_lower = np.mean(df.temperature) - zval_moe\n",
    "mean_z_upper = np.mean(df.temperature) + zval_moe\n",
    "mean_t_lower = np.mean(df.temperature) - tval_moe\n",
    "mean_t_upper = np.mean(df.temperature) + tval_moe\n"
   ]
  },
  {
   "cell_type": "code",
   "execution_count": 83,
   "metadata": {
    "scrolled": true
   },
   "outputs": [
    {
     "name": "stdout",
     "output_type": "stream",
     "text": [
      "For the Z test, Normal temperature range is  98.12  to  98.37 F.\n",
      "For the T test, Normal temperature range is  98.12  to  98.38 F.\n"
     ]
    }
   ],
   "source": [
    "print(\"For the Z test, Normal temperature range is \", round(mean_z_lower,2), \" to \", round(mean_z_upper,2), \"F.\")\n",
    "\n",
    "print(\"For the T test, Normal temperature range is \", round(mean_t_lower,2), \" to \", round(mean_t_upper,2), \"F.\")"
   ]
  },
  {
   "cell_type": "markdown",
   "metadata": {},
   "source": [
    "## Is there a significant difference between males and females in normal temperature?"
   ]
  },
  {
   "cell_type": "code",
   "execution_count": 21,
   "metadata": {},
   "outputs": [
    {
     "name": "stdout",
     "output_type": "stream",
     "text": [
      "count    65.000000\n",
      "mean     98.104615\n",
      "std       0.698756\n",
      "min      96.300000\n",
      "25%      97.600000\n",
      "50%      98.100000\n",
      "75%      98.600000\n",
      "max      99.500000\n",
      "Name: temperature, dtype: float64\n",
      "count     65.000000\n",
      "mean      98.393846\n",
      "std        0.743488\n",
      "min       96.400000\n",
      "25%       98.000000\n",
      "50%       98.400000\n",
      "75%       98.800000\n",
      "max      100.800000\n",
      "Name: temperature, dtype: float64\n"
     ]
    }
   ],
   "source": [
    "male = df.temperature[df.gender == 'M']\n",
    "female = df.temperature[df.gender == 'F']\n",
    "\n",
    "print(male.describe())\n",
    "\n",
    "print(female.describe())"
   ]
  },
  {
   "cell_type": "code",
   "execution_count": 22,
   "metadata": {},
   "outputs": [],
   "source": [
    "#Male Stats\n",
    "\n",
    "male_std = np.std(male)\n",
    "male_mean = np.mean(male)\n",
    "male_len = len(male)\n",
    "\n",
    "#Female Stats\n",
    "\n",
    "female_std = np.std(female)\n",
    "female_mean = np.mean(female)\n",
    "female_len = len(female)"
   ]
  },
  {
   "cell_type": "code",
   "execution_count": 23,
   "metadata": {},
   "outputs": [
    {
     "data": {
      "text/plain": [
       "0.12557668521231213"
      ]
     },
     "execution_count": 23,
     "metadata": {},
     "output_type": "execute_result"
    }
   ],
   "source": [
    "#Find the difference of mean between Male and Female\n",
    "mean_diff = female_mean - male_mean\n",
    "\n",
    "#Standard Error Calculation\n",
    "SE = ((male_std**2)/65 + (female_std**2)/65)**.5\n",
    "SE"
   ]
  },
  {
   "cell_type": "code",
   "execution_count": 24,
   "metadata": {},
   "outputs": [
    {
     "data": {
      "text/plain": [
       "127.51030083039093"
      ]
     },
     "execution_count": 24,
     "metadata": {},
     "output_type": "execute_result"
    }
   ],
   "source": [
    "# Degrees of Freedom Calculation\n",
    "\n",
    "F1 = female_std**2/65\n",
    "M1 = male_std**2/65\n",
    "\n",
    "DF=((F1+M1)**2)/(((F1**2)/64)+((M1**2)/64))\n",
    "DF"
   ]
  },
  {
   "cell_type": "code",
   "execution_count": 25,
   "metadata": {},
   "outputs": [
    {
     "data": {
      "text/plain": [
       "2.3032202891940123"
      ]
     },
     "execution_count": 25,
     "metadata": {},
     "output_type": "execute_result"
    }
   ],
   "source": [
    "t_val=((mean_diff)-0)/SE\n",
    "t_val"
   ]
  },
  {
   "cell_type": "code",
   "execution_count": 26,
   "metadata": {},
   "outputs": [
    {
     "data": {
      "text/plain": [
       "0.022879279869584268"
      ]
     },
     "execution_count": 26,
     "metadata": {},
     "output_type": "execute_result"
    }
   ],
   "source": [
    " # two-sided pvalue \n",
    "\n",
    "p_value =  (1- stats.t.cdf(np.abs(t_val), 128))*2 \n",
    "p_value"
   ]
  },
  {
   "cell_type": "code",
   "execution_count": 27,
   "metadata": {},
   "outputs": [
    {
     "name": "stdout",
     "output_type": "stream",
     "text": [
      "Reject H0 hypothesis. There is a significant difference between male and female body temperature.\n"
     ]
    }
   ],
   "source": [
    "if p_value < .05:\n",
    "    print(\"Reject H0 hypothesis. There is a significant difference between male and female body temperature.\")\n",
    "    \n",
    "else:\n",
    "    print(\"H0 is failed to be rejected\")"
   ]
  },
  {
   "cell_type": "code",
   "execution_count": 84,
   "metadata": {},
   "outputs": [
    {
     "data": {
      "image/png": "[encoded data removed]",
      "text/plain": [
       "<Figure size 432x288 with 1 Axes>"
      ]
     },
     "metadata": {},
     "output_type": "display_data"
    }
   ],
   "source": [
    "_ = plt.hist(male,bins=10,density=True,alpha=.2)\n",
    "_ = plt.hist(female,bins=10,density=True,alpha = .2)\n",
    "_ = plt.legend(['male','female'],loc='lower left')\n",
    "plt.show()"
   ]
  },
  {
   "cell_type": "markdown",
   "metadata": {},
   "source": [
    "Female Body Temperature Distribution is about .3 degrees greater than males, thus rejecing the hypothesis but it does not accept the alternative hypothesis."
   ]
  },
  {
   "cell_type": "code",
   "execution_count": null,
   "metadata": {},
   "outputs": [],
   "source": []
  }
 ],
 "metadata": {
  "kernelspec": {
   "display_name": "Python 3",
   "language": "python",
   "name": "python3"
  },
  "language_info": {
   "codemirror_mode": {
    "name": "ipython",
    "version": 3
   },
   "file_extension": ".py",
   "mimetype": "text/x-python",
   "name": "python",
   "nbconvert_exporter": "python",
   "pygments_lexer": "ipython3",
   "version": "3.6.5"
  }
 },
 "nbformat": 4,
 "nbformat_minor": 1
}
