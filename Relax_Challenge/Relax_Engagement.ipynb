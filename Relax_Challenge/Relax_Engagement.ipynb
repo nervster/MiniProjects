{
 "cells": [
  {
   "cell_type": "code",
   "execution_count": 1,
   "metadata": {
    "collapsed": true
   },
   "outputs": [],
   "source": [
    "import os\n",
    "import pandas as pd\n",
    "import datetime\n",
    "from sklearn.preprocessing import MinMaxScaler\n",
    "\n",
    "import matplotlib.pyplot as plt\n",
    "from sklearn.ensemble import RandomForestClassifier\n",
    "from sklearn import metrics\n",
    "from sklearn.model_selection import train_test_split\n"
   ]
  },
  {
   "cell_type": "code",
   "execution_count": 2,
   "metadata": {},
   "outputs": [
    {
     "name": "stdout",
     "output_type": "stream",
     "text": [
      "    object_id        creation_time               name  \\\n0           1  2014-04-22 03:53:30     Clausen August   \n1           2  2013-11-15 03:45:04      Poole Matthew   \n2           3  2013-03-19 23:14:52  Bottrill Mitchell   \n3           4  2013-05-21 08:09:28    Clausen Nicklas   \n4           5  2013-01-17 10:14:20          Raw Grace   \n5           6  2013-12-17 03:37:06      Cunha Eduardo   \n6           7  2012-12-16 13:24:32       Sewell Tyler   \n7           8  2013-07-31 05:34:02  Hamilton Danielle   \n8           9  2013-11-05 04:04:24         Amsel Paul   \n9          10  2013-01-16 22:08:03       Santos Carla   \n10         11  2013-12-26 03:55:54     Paulsen Malthe   \n11         12  2014-04-17 23:48:38    Mathiesen Lærke   \n12         13  2014-03-30 16:19:38      Fry Alexander   \n13         14  2012-10-11 16:14:33        Rivera Bret   \n14         15  2013-07-16 21:33:54        Theiss Ralf   \n15         16  2013-02-11 10:09:50         Engel René   \n16         17  2014-04-09 14:39:38   Reynolds Anthony   \n17         18  2013-08-24 00:26:46   Gregersen Celina   \n18         19  2013-05-24 14:56:36     Collins Arlene   \n19         20  2014-03-06 11:46:38      Helms Mikayla   \n\n                              email    creation_source  \\\n0          AugustCClausen@yahoo.com       GUEST_INVITE   \n1            MatthewPoole@gustr.com         ORG_INVITE   \n2        MitchellBottrill@gustr.com         ORG_INVITE   \n3         NicklasSClausen@yahoo.com       GUEST_INVITE   \n4                GraceRaw@yahoo.com       GUEST_INVITE   \n5     EduardoPereiraCunha@yahoo.com       GUEST_INVITE   \n6        TylerSewell@jourrapide.com             SIGNUP   \n7        DanielleHamilton@yahoo.com  PERSONAL_PROJECTS   \n8             PaulAmsel@hotmail.com  PERSONAL_PROJECTS   \n9     CarlaFerreiraSantos@gustr.com         ORG_INVITE   \n10         MaltheAPaulsen@gustr.com             SIGNUP   \n11        LaerkeLMathiesen@cuvox.de         ORG_INVITE   \n12           AlexanderDFry@cuvox.de         ORG_INVITE   \n13            BretKRivera@gmail.com             SIGNUP   \n14           RalfTheiss@hotmail.com  PERSONAL_PROJECTS   \n15            ReneEngel@hotmail.com  PERSONAL_PROJECTS   \n16   AnthonyReynolds@jourrapide.com       GUEST_INVITE   \n17  CelinaAGregersen@jourrapide.com       GUEST_INVITE   \n18         ArleneRCollins@gmail.com             SIGNUP   \n19               lqyvjilf@uhzdq.com             SIGNUP   \n\n    last_session_creation_time  opted_in_to_mailing_list  \\\n0                 1.398139e+09                         1   \n1                 1.396238e+09                         0   \n2                 1.363735e+09                         0   \n3                 1.369210e+09                         0   \n4                 1.358850e+09                         0   \n5                 1.387424e+09                         0   \n6                 1.356010e+09                         0   \n7                          NaN                         1   \n8                          NaN                         0   \n9                 1.401833e+09                         1   \n10                1.388117e+09                         0   \n11                         NaN                         0   \n12                1.396196e+09                         0   \n13                1.350058e+09                         0   \n14                         NaN                         0   \n15                         NaN                         0   \n16                1.397314e+09                         1   \n17                         NaN                         0   \n18                1.369926e+09                         1   \n19                1.401364e+09                         0   \n\n    enabled_for_marketing_drip  org_id  invited_by_user_id  \n0                            0      11             10803.0  \n1                            0       1               316.0  \n2                            0      94              1525.0  \n3                            0       1              5151.0  \n4                            0     193              5240.0  \n5                            0     197             11241.0  \n6                            1      37                 NaN  \n7                            1      74                 NaN  \n8                            0     302                 NaN  \n9                            1     318              4143.0  \n10                           0      69                 NaN  \n11                           0     130              9270.0  \n12                           0     254             11204.0  \n13                           0       0                 NaN  \n14                           0     175                 NaN  \n15                           0     211                 NaN  \n16                           0     175              1600.0  \n17                           0       2              3153.0  \n18                           0       0                 NaN  \n19                           0      58                 NaN  \n"
     ]
    }
   ],
   "source": [
    "users_df = pd.read_csv('Downloads/1481069814_relax_challenge/relax_challenge/takehome_users.csv', header=0, encoding = \"ISO-8859-1\")\n",
    "users_engage_df = pd.read_csv('Downloads/1481069814_relax_challenge/relax_challenge/takehome_user_engagement.csv', header=0, encoding = \"ISO-8859-1\")\n",
    "\n",
    "print(users_df.head())"
   ]
  },
  {
   "cell_type": "code",
   "execution_count": 3,
   "metadata": {},
   "outputs": [],
   "source": [
    "# Convert string datetime to datetime format\n",
    "users_engage_df.time_stamp = [datetime.datetime.strptime(x, '%Y-%m-%d %H:%M:%S') for x in users_engage_df['time_stamp']]\n"
   ]
  },
  {
   "cell_type": "code",
   "execution_count": 4,
   "metadata": {},
   "outputs": [],
   "source": [
    "import numpy as np\n",
    "engaged_within_7 = []\n",
    "for i in range(len(users_engage_df)):    \n",
    "    time_stamp_start = users_engage_df.time_stamp[i]\n",
    "    time_stamp_end = time_stamp_start + datetime.timedelta(days=7)\n",
    "    user_id = users_engage_df.user_id[i]\n",
    "    engaged_within_7.append(len(users_engage_df[(users_engage_df.user_id == user_id) & (users_engage_df.time_stamp >= \n",
    "                                                time_stamp_start) & (users_engage_df.time_stamp <= time_stamp_end)]))"
   ]
  },
  {
   "cell_type": "code",
   "execution_count": 5,
   "metadata": {},
   "outputs": [
    {
     "name": "stdout",
     "output_type": "stream",
     "text": [
      "            time_stamp  user_id  visited  days_engaged_within_7\n0  2014-04-22 03:53:30        1        1                      1\n1  2013-11-15 03:45:04        2        1                      1\n2  2013-11-29 03:45:04        2        1                      1\n3  2013-12-09 03:45:04        2        1                      1\n4  2013-12-25 03:45:04        2        1                      2\n5  2013-12-31 03:45:04        2        1                      1\n6  2014-01-08 03:45:04        2        1                      1\n7  2014-02-03 03:45:04        2        1                      3\n8  2014-02-08 03:45:04        2        1                      3\n9  2014-02-09 03:45:04        2        1                      3\n10 2014-02-13 03:45:04        2        1                      2\n11 2014-02-16 03:45:04        2        1                      1\n12 2014-03-09 03:45:04        2        1                      2\n13 2014-03-13 03:45:04        2        1                      1\n14 2014-03-31 03:45:04        2        1                      1\n15 2013-03-19 23:14:52        3        1                      1\n16 2013-05-22 08:09:28        4        1                      1\n17 2013-01-22 10:14:20        5        1                      1\n18 2013-12-19 03:37:06        6        1                      1\n19 2012-12-20 13:24:32        7        1                      1\n20 2013-01-16 22:08:03       10        1                      2\n21 2013-01-22 22:08:03       10        1                      1\n22 2013-01-30 22:08:03       10        1                      3\n23 2013-02-04 22:08:03       10        1                      2\n24 2013-02-06 22:08:03       10        1                      1\n25 2013-02-14 22:08:03       10        1                      3\n26 2013-02-17 22:08:03       10        1                      2\n27 2013-02-19 22:08:03       10        1                      2\n28 2013-02-26 22:08:03       10        1                      4\n29 2013-03-01 22:08:03       10        1                      3\n30 2013-03-02 22:08:03       10        1                      3\n31 2013-03-05 22:08:03       10        1                      2\n32 2013-03-09 22:08:03       10        1                      2\n33 2013-03-15 22:08:03       10        1                      4\n34 2013-03-17 22:08:03       10        1                      3\n35 2013-03-20 22:08:03       10        1                      3\n36 2013-03-22 22:08:03       10        1                      2\n37 2013-03-26 22:08:03       10        1                      1\n38 2013-04-07 22:08:03       10        1                      4\n39 2013-04-11 22:08:03       10        1                      4\n"
     ]
    }
   ],
   "source": [
    "users_engage_df['days_engaged_within_7'] = engaged_within_7\n",
    "print(users_engage_df.head())"
   ]
  },
  {
   "cell_type": "code",
   "execution_count": 6,
   "metadata": {},
   "outputs": [],
   "source": [
    "engaged_users_id = users_engage_df[users_engage_df.days_engaged_within_7 > 2]['user_id'].unique()"
   ]
  },
  {
   "cell_type": "code",
   "execution_count": 7,
   "metadata": {},
   "outputs": [],
   "source": [
    "#users_df['Engaged_User'] = [lambda x: True if x in engaded_users_id else 0 for x in users_df.object_id]\n",
    "engaged_user = []\n",
    "for x in users_df.object_id:\n",
    "    if x in engaged_users_id:\n",
    "        engaged_user.append(1)\n",
    "    else:\n",
    "        engaged_user.append(0)"
   ]
  },
  {
   "cell_type": "code",
   "execution_count": 8,
   "metadata": {},
   "outputs": [
    {
     "name": "stdout",
     "output_type": "stream",
     "text": [
      "         object_id  last_session_creation_time  opted_in_to_mailing_list  \\\ncount  12000.00000                8.823000e+03              12000.000000   \nmean    6000.50000                1.379279e+09                  0.249500   \nstd     3464.24595                1.953116e+07                  0.432742   \nmin        1.00000                1.338452e+09                  0.000000   \n25%     3000.75000                1.363195e+09                  0.000000   \n50%     6000.50000                1.382888e+09                  0.000000   \n75%     9000.25000                1.398443e+09                  0.000000   \nmax    12000.00000                1.402067e+09                  1.000000   \n\n       enabled_for_marketing_drip        org_id  invited_by_user_id  \\\ncount                12000.000000  12000.000000         6417.000000   \nmean                     0.149333    141.884583         5962.957145   \nstd                      0.356432    124.056723         3383.761968   \nmin                      0.000000      0.000000            3.000000   \n25%                      0.000000     29.000000         3058.000000   \n50%                      0.000000    108.000000         5954.000000   \n75%                      0.000000    238.250000         8817.000000   \nmax                      1.000000    416.000000        11999.000000   \n\n       Engaged_Users  \ncount   12000.000000  \nmean        0.138000  \nstd         0.344914  \nmin         0.000000  \n25%         0.000000  \n50%         0.000000  \n75%         0.000000  \nmax         1.000000  \n"
     ]
    }
   ],
   "source": [
    "users_df['Engaged_Users'] = engaged_user\n",
    "print(users_df.describe())"
   ]
  },
  {
   "cell_type": "code",
   "execution_count": 9,
   "metadata": {},
   "outputs": [
    {
     "name": "stdout",
     "output_type": "stream",
     "text": [
      "<class 'pandas.core.frame.DataFrame'>\nRangeIndex: 12000 entries, 0 to 11999\nData columns (total 8 columns):\nobject_id                     12000 non-null int64\ncreation_time                 12000 non-null object\ncreation_source               12000 non-null object\nlast_session_creation_time    12000 non-null float64\nopted_in_to_mailing_list      12000 non-null int64\nenabled_for_marketing_drip    12000 non-null int64\ninvited_by_user_id            12000 non-null float64\nEngaged_Users                 12000 non-null int64\ndtypes: float64(2), int64(4), object(2)\nmemory usage: 750.1+ KB\nNone\n"
     ]
    },
    {
     "name": "stderr",
     "output_type": "stream",
     "text": [
      "C:\\Users\\npshe\\Anaconda3\\lib\\site-packages\\pandas\\core\\frame.py:2754: SettingWithCopyWarning: \nA value is trying to be set on a copy of a slice from a DataFrame\n\nSee the caveats in the documentation: http://pandas.pydata.org/pandas-docs/stable/indexing.html#indexing-view-versus-copy\n  downcast=downcast, **kwargs)\n"
     ]
    }
   ],
   "source": [
    "user_col_to_keep = ['object_id', 'creation_time','creation_source',\n",
    "       'last_session_creation_time', 'opted_in_to_mailing_list',\n",
    "       'enabled_for_marketing_drip', 'invited_by_user_id', 'Engaged_Users']\n",
    "\n",
    "users_df_ext = users_df[user_col_to_keep]\n",
    "users_df_ext.fillna(0, inplace= True)\n",
    "print(users_df_ext.info())"
   ]
  },
  {
   "cell_type": "code",
   "execution_count": 10,
   "metadata": {},
   "outputs": [
    {
     "name": "stderr",
     "output_type": "stream",
     "text": [
      "C:\\Users\\npshe\\Anaconda3\\lib\\site-packages\\ipykernel_launcher.py:5: SettingWithCopyWarning: \nA value is trying to be set on a copy of a slice from a DataFrame.\nTry using .loc[row_indexer,col_indexer] = value instead\n\nSee the caveats in the documentation: http://pandas.pydata.org/pandas-docs/stable/indexing.html#indexing-view-versus-copy\n  \"\"\"\nC:\\Users\\npshe\\Anaconda3\\lib\\site-packages\\pandas\\core\\indexing.py:517: SettingWithCopyWarning: \nA value is trying to be set on a copy of a slice from a DataFrame.\nTry using .loc[row_indexer,col_indexer] = value instead\n\nSee the caveats in the documentation: http://pandas.pydata.org/pandas-docs/stable/indexing.html#indexing-view-versus-copy\n  self.obj[item] = s\nC:\\Users\\npshe\\Anaconda3\\lib\\site-packages\\pandas\\core\\frame.py:2352: SettingWithCopyWarning: \nA value is trying to be set on a copy of a slice from a DataFrame.\nTry using .loc[row_indexer,col_indexer] = value instead\n\nSee the caveats in the documentation: http://pandas.pydata.org/pandas-docs/stable/indexing.html#indexing-view-versus-copy\n  self[k1] = value[k2]\n"
     ]
    },
    {
     "name": "stdout",
     "output_type": "stream",
     "text": [
      "   object_id  creation_time creation_source  last_session_creation_time  \\\n0          1       0.946796    GUEST_INVITE                    0.997198   \n1          2       0.730340      ORG_INVITE                    0.995842   \n2          3       0.401302      ORG_INVITE                    0.972660   \n3          4       0.486746    GUEST_INVITE                    0.976566   \n4          5       0.316995    GUEST_INVITE                    0.969176   \n\n   opted_in_to_mailing_list  enabled_for_marketing_drip  invited_by_user_id  \\\n0                         1                           0                   1   \n1                         0                           0                   1   \n2                         0                           0                   1   \n3                         0                           0                   1   \n4                         0                           0                   1   \n\n   Engaged_Users  \n0              0  \n1              1  \n2              0  \n3              0  \n4              0  \n"
     ]
    },
    {
     "name": "stderr",
     "output_type": "stream",
     "text": [
      "C:\\Users\\npshe\\Anaconda3\\lib\\site-packages\\ipykernel_launcher.py:16: SettingWithCopyWarning: \nA value is trying to be set on a copy of a slice from a DataFrame.\nTry using .loc[row_indexer,col_indexer] = value instead\n\nSee the caveats in the documentation: http://pandas.pydata.org/pandas-docs/stable/indexing.html#indexing-view-versus-copy\n  app.launch_new_instance()\n"
     ]
    }
   ],
   "source": [
    "\n",
    "df = users_df_ext[['creation_time', 'last_session_creation_time']]\n",
    "\n",
    "df['creation_time'] = pd.to_datetime(df['creation_time']).astype('int64')\n",
    "scaler = MinMaxScaler() \n",
    "scaled_values = scaler.fit_transform(df) \n",
    "df.loc[:, :] = scaled_values\n",
    "\n",
    "users_df_ext[['creation_time','last_session_creation_time']] = df\n",
    "users_df_ext['invited_by_user_id'] = np.where(users_df_ext['invited_by_user_id'] < 1, 0, 1)\n",
    "print(users_df_ext.head())"
   ]
  },
  {
   "cell_type": "code",
   "execution_count": 11,
   "metadata": {},
   "outputs": [
    {
     "name": "stdout",
     "output_type": "stream",
     "text": [
      "           creation_time  last_session_creation_time  \\\nobject_id                                              \n1               0.946796                    0.997198   \n2               0.730340                    0.995842   \n3               0.401302                    0.972660   \n4               0.486746                    0.976566   \n5               0.316995                    0.969176   \n6               0.774170                    0.989556   \n7               0.273338                    0.967151   \n8               0.583863                    0.000000   \n9               0.716660                    0.000000   \n10              0.316304                    0.999833   \n11              0.786517                    0.990050   \n12              0.941083                    0.000000   \n13              0.915998                    0.995813   \n14              0.183085                    0.962906   \n15              0.564227                    0.000000   \n16              0.351238                    0.000000   \n17              0.929602                    0.996610   \n18              0.616448                    0.000000   \n19              0.491243                    0.977076   \n20              0.882860                    0.999499   \n21              0.323971                    0.969182   \n22              0.849653                    0.992829   \n23              0.107298                    0.959497   \n24              0.639616                    0.983381   \n25              0.869869                    0.993800   \n26              0.579486                    0.000000   \n27              0.813325                    0.991256   \n28              0.351800                    0.970619   \n29              0.648053                    0.983822   \n30              0.505502                    0.977348   \n31              0.824957                    0.991779   \n32              0.440637                    0.000000   \n33              0.889407                    0.999608   \n34              0.840914                    0.000000   \n35              0.585538                    0.000000   \n36              0.592286                    0.981252   \n37              0.161074                    0.961916   \n38              0.992181                    0.000000   \n39              0.641034                    0.000000   \n40              0.993749                    0.000000   \n\n           opted_in_to_mailing_list  enabled_for_marketing_drip  \\\nobject_id                                                         \n1                                 1                           0   \n2                                 0                           0   \n3                                 0                           0   \n4                                 0                           0   \n5                                 0                           0   \n6                                 0                           0   \n7                                 0                           1   \n8                                 1                           1   \n9                                 0                           0   \n10                                1                           1   \n11                                0                           0   \n12                                0                           0   \n13                                0                           0   \n14                                0                           0   \n15                                0                           0   \n16                                0                           0   \n17                                1                           0   \n18                                0                           0   \n19                                1                           0   \n20                                0                           0   \n21                                0                           0   \n22                                0                           0   \n23                                1                           0   \n24                                1                           0   \n25                                1                           0   \n26                                0                           0   \n27                                0                           0   \n28                                0                           0   \n29                                0                           0   \n30                                0                           0   \n31                                0                           0   \n32                                1                           1   \n33                                0                           0   \n34                                0                           0   \n35                                0                           0   \n36                                1                           0   \n37                                0                           0   \n38                                0                           0   \n39                                1                           0   \n40                                0                           0   \n\n           invited_by_user_id  Engaged_Users  creation_source_GUEST_INVITE  \\\nobject_id                                                                    \n1                           1              0                             1   \n2                           1              1                             0   \n3                           1              0                             0   \n4                           1              0                             1   \n5                           1              0                             1   \n6                           1              0                             1   \n7                           0              0                             0   \n8                           0              0                             0   \n9                           0              0                             0   \n10                          1              1                             0   \n11                          0              0                             0   \n12                          1              0                             0   \n13                          1              0                             0   \n14                          0              0                             0   \n15                          0              0                             0   \n16                          0              0                             0   \n17                          1              0                             1   \n18                          1              0                             1   \n19                          0              0                             0   \n20                          0              1                             0   \n21                          0              0                             0   \n22                          1              0                             0   \n23                          1              0                             0   \n24                          0              0                             0   \n25                          1              0                             1   \n26                          1              0                             0   \n27                          1              0                             0   \n28                          0              0                             0   \n29                          0              0                             0   \n30                          1              0                             1   \n31                          0              0                             0   \n32                          0              0                             0   \n33                          1              1                             1   \n34                          1              0                             0   \n35                          0              0                             0   \n36                          1              0                             1   \n37                          0              0                             0   \n38                          0              0                             0   \n39                          1              0                             0   \n40                          1              0                             1   \n\n           creation_source_ORG_INVITE  creation_source_PERSONAL_PROJECTS  \\\nobject_id                                                                  \n1                                   0                                  0   \n2                                   1                                  0   \n3                                   1                                  0   \n4                                   0                                  0   \n5                                   0                                  0   \n6                                   0                                  0   \n7                                   0                                  0   \n8                                   0                                  1   \n9                                   0                                  1   \n10                                  1                                  0   \n11                                  0                                  0   \n12                                  1                                  0   \n13                                  1                                  0   \n14                                  0                                  0   \n15                                  0                                  1   \n16                                  0                                  1   \n17                                  0                                  0   \n18                                  0                                  0   \n19                                  0                                  0   \n20                                  0                                  0   \n21                                  0                                  1   \n22                                  1                                  0   \n23                                  1                                  0   \n24                                  0                                  0   \n25                                  0                                  0   \n26                                  1                                  0   \n27                                  1                                  0   \n28                                  0                                  0   \n29                                  0                                  0   \n30                                  0                                  0   \n31                                  0                                  0   \n32                                  0                                  1   \n33                                  0                                  0   \n34                                  1                                  0   \n35                                  0                                  1   \n36                                  0                                  0   \n37                                  0                                  0   \n38                                  0                                  1   \n39                                  1                                  0   \n40                                  0                                  0   \n\n           creation_source_SIGNUP  creation_source_SIGNUP_GOOGLE_AUTH  \\\nobject_id                                                               \n1                               0                                   0   \n2                               0                                   0   \n3                               0                                   0   \n4                               0                                   0   \n5                               0                                   0   \n6                               0                                   0   \n7                               1                                   0   \n8                               0                                   0   \n9                               0                                   0   \n10                              0                                   0   \n11                              1                                   0   \n12                              0                                   0   \n13                              0                                   0   \n14                              1                                   0   \n15                              0                                   0   \n16                              0                                   0   \n17                              0                                   0   \n18                              0                                   0   \n19                              1                                   0   \n20                              1                                   0   \n21                              0                                   0   \n22                              0                                   0   \n23                              0                                   0   \n24                              1                                   0   \n25                              0                                   0   \n26                              0                                   0   \n27                              0                                   0   \n28                              1                                   0   \n29                              1                                   0   \n30                              0                                   0   \n31                              1                                   0   \n32                              0                                   0   \n33                              0                                   0   \n34                              0                                   0   \n35                              0                                   0   \n36                              0                                   0   \n37                              1                                   0   \n38                              0                                   0   \n39                              0                                   0   \n40                              0                                   0   \n\n           creation_source_nan  \nobject_id                       \n1                            0  \n2                            0  \n3                            0  \n4                            0  \n5                            0  \n6                            0  \n7                            0  \n8                            0  \n9                            0  \n10                           0  \n11                           0  \n12                           0  \n13                           0  \n14                           0  \n15                           0  \n16                           0  \n17                           0  \n18                           0  \n19                           0  \n20                           0  \n21                           0  \n22                           0  \n23                           0  \n24                           0  \n25                           0  \n26                           0  \n27                           0  \n28                           0  \n29                           0  \n30                           0  \n31                           0  \n32                           0  \n33                           0  \n34                           0  \n35                           0  \n36                           0  \n37                           0  \n38                           0  \n39                           0  \n40                           0  \n"
     ]
    }
   ],
   "source": [
    "\n",
    "df_ind = users_df_ext.set_index('object_id')\n",
    "df_dumb = pd.get_dummies(df_ind.select_dtypes(include=['object']), dummy_na=True)\n",
    "user_dum_version = pd.concat([df_ind.select_dtypes(exclude=['object']), df_dumb], axis=1)\n",
    "\n",
    "print(user_dum_version.head())"
   ]
  },
  {
   "cell_type": "code",
   "execution_count": 14,
   "metadata": {},
   "outputs": [],
   "source": [
    "df_test = user_dum_version.loc[:, user_dum_version.columns != 'Engaged_Users']\n",
    "y = user_dum_version.Engaged_Users\n",
    "x_train,x_test,y_train,y_test = train_test_split(df_test,y,test_size=.2)"
   ]
  },
  {
   "cell_type": "code",
   "execution_count": 36,
   "metadata": {},
   "outputs": [
    {
     "name": "stdout",
     "output_type": "stream",
     "text": [
      "                          column_names  feat_importance\n1           last_session_creation_time         0.700287\n0                        creation_time         0.284785\n7    creation_source_PERSONAL_PROJECTS         0.003371\n3           enabled_for_marketing_drip         0.003080\n2             opted_in_to_mailing_list         0.002622\n9   creation_source_SIGNUP_GOOGLE_AUTH         0.001517\n5         creation_source_GUEST_INVITE         0.001266\n6           creation_source_ORG_INVITE         0.001253\n4                   invited_by_user_id         0.000999\n8               creation_source_SIGNUP         0.000821\n10                 creation_source_nan         0.000000\n"
     ]
    }
   ],
   "source": [
    "\n",
    "\n",
    "scores= []\n",
    "#Train Classifier: Random Forest\n",
    "clf = RandomForestClassifier(n_estimators=8)\n",
    "\n",
    "#Fit classifier to Train data set\n",
    "clf.fit(x_train,y_train)\n",
    "\n",
    "#Predict Proba\n",
    "\n",
    "feat_importance = clf.feature_importances_\n",
    "\n",
    "data = {'column_names': df_test.columns, 'feat_importance': feat_importance}\n",
    "feat_table = pd.DataFrame(data=data).sort_values(by='feat_importance',ascending=False)\n",
    "\n",
    "print(feat_table)"
   ]
  },
  {
   "cell_type": "code",
   "execution_count": 37,
   "metadata": {},
   "outputs": [
    {
     "name": "stdout",
     "output_type": "stream",
     "text": [
      "AUC Score:  0.9174592789007886\n"
     ]
    }
   ],
   "source": [
    "y_predict_test = clf.predict(x_test)\n",
    "\n",
    "\n",
    "auc_test = metrics.roc_auc_score(y_test, y_predict_test)\n",
    "print(\"AUC Score: \",auc_test)"
   ]
  },
  {
   "cell_type": "code",
   "execution_count": null,
   "metadata": {},
   "outputs": [],
   "source": []
  }
 ],
 "metadata": {
  "kernelspec": {
   "display_name": "Python 2",
   "language": "python",
   "name": "python2"
  },
  "language_info": {
   "codemirror_mode": {
    "name": "ipython",
    "version": 2
   },
   "file_extension": ".py",
   "mimetype": "text/x-python",
   "name": "python",
   "nbconvert_exporter": "python",
   "pygments_lexer": "ipython2",
   "version": "2.7.6"
  }
 },
 "nbformat": 4,
 "nbformat_minor": 0
}
