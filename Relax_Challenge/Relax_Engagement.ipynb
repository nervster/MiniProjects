{
 "cells": [
  {
   "cell_type": "code",
   "execution_count": 1,
   "metadata": {
    "collapsed": true
   },
   "outputs": [],
   "source": [
    "import os\n",
    "import pandas as pd\n",
    "import datetime\n",
    "from sklearn.preprocessing import MinMaxScaler\n",
    "\n",
    "import matplotlib.pyplot as plt\n",
    "from sklearn.ensemble import RandomForestClassifier\n",
    "from sklearn import metrics\n",
    "from sklearn.model_selection import train_test_split\n"
   ]
  },
  {
   "cell_type": "code",
   "execution_count": 2,
   "metadata": {},
   "outputs": [
    {
     "name": "stdout",
     "output_type": "stream",
     "text": [
      "   object_id        creation_time               name  \\\n0          1  2014-04-22 03:53:30     Clausen August   \n1          2  2013-11-15 03:45:04      Poole Matthew   \n2          3  2013-03-19 23:14:52  Bottrill Mitchell   \n3          4  2013-05-21 08:09:28    Clausen Nicklas   \n4          5  2013-01-17 10:14:20          Raw Grace   \n\n                        email creation_source  last_session_creation_time  \\\n0    AugustCClausen@yahoo.com    GUEST_INVITE                1.398139e+09   \n1      MatthewPoole@gustr.com      ORG_INVITE                1.396238e+09   \n2  MitchellBottrill@gustr.com      ORG_INVITE                1.363735e+09   \n3   NicklasSClausen@yahoo.com    GUEST_INVITE                1.369210e+09   \n4          GraceRaw@yahoo.com    GUEST_INVITE                1.358850e+09   \n\n   opted_in_to_mailing_list  enabled_for_marketing_drip  org_id  \\\n0                         1                           0      11   \n1                         0                           0       1   \n2                         0                           0      94   \n3                         0                           0       1   \n4                         0                           0     193   \n\n   invited_by_user_id  \n0             10803.0  \n1               316.0  \n2              1525.0  \n3              5151.0  \n4              5240.0  \n"
     ]
    }
   ],
   "source": [
    "users_df = pd.read_csv('Downloads/1481069814_relax_challenge/relax_challenge/takehome_users.csv', header=0, encoding = \"ISO-8859-1\")\n",
    "users_engage_df = pd.read_csv('Downloads/1481069814_relax_challenge/relax_challenge/takehome_user_engagement.csv', header=0, encoding = \"ISO-8859-1\")\n",
    "\n",
    "print(users_df.head())"
   ]
  },
  {
   "cell_type": "code",
   "execution_count": 3,
   "metadata": {},
   "outputs": [],
   "source": [
    "# Convert string datetime to datetime format\n",
    "users_engage_df.time_stamp = [datetime.datetime.strptime(x, '%Y-%m-%d %H:%M:%S') for x in users_engage_df['time_stamp']]\n"
   ]
  },
  {
   "cell_type": "code",
   "execution_count": 4,
   "metadata": {},
   "outputs": [],
   "source": [
    "import numpy as np\n",
    "engaged_within_7 = []\n",
    "for i in range(len(users_engage_df)):    \n",
    "    time_stamp_start = users_engage_df.time_stamp[i]\n",
    "    time_stamp_end = time_stamp_start + datetime.timedelta(days=7)\n",
    "    user_id = users_engage_df.user_id[i]\n",
    "    engaged_within_7.append(len(users_engage_df[(users_engage_df.user_id == user_id) & (users_engage_df.time_stamp >= \n",
    "                                                time_stamp_start) & (users_engage_df.time_stamp <= time_stamp_end)]))"
   ]
  },
  {
   "cell_type": "code",
   "execution_count": 5,
   "metadata": {},
   "outputs": [
    {
     "name": "stdout",
     "output_type": "stream",
     "text": [
      "           time_stamp  user_id  visited  days_engaged_within_7\n0 2014-04-22 03:53:30        1        1                      1\n1 2013-11-15 03:45:04        2        1                      1\n2 2013-11-29 03:45:04        2        1                      1\n3 2013-12-09 03:45:04        2        1                      1\n4 2013-12-25 03:45:04        2        1                      2\n"
     ]
    }
   ],
   "source": [
    "users_engage_df['days_engaged_within_7'] = engaged_within_7\n",
    "print(users_engage_df.head())"
   ]
  },
  {
   "cell_type": "code",
   "execution_count": 6,
   "metadata": {},
   "outputs": [],
   "source": [
    "engaged_users_id = users_engage_df[users_engage_df.days_engaged_within_7 > 2]['user_id'].unique()"
   ]
  },
  {
   "cell_type": "code",
   "execution_count": 7,
   "metadata": {},
   "outputs": [],
   "source": [
    "#users_df['Engaged_User'] = [lambda x: True if x in engaded_users_id else 0 for x in users_df.object_id]\n",
    "engaged_user = []\n",
    "for x in users_df.object_id:\n",
    "    if x in engaged_users_id:\n",
    "        engaged_user.append(1)\n",
    "    else:\n",
    "        engaged_user.append(0)"
   ]
  },
  {
   "cell_type": "code",
   "execution_count": 8,
   "metadata": {},
   "outputs": [
    {
     "name": "stdout",
     "output_type": "stream",
     "text": [
      "         object_id  last_session_creation_time  opted_in_to_mailing_list  \\\ncount  12000.00000                8.823000e+03              12000.000000   \nmean    6000.50000                1.379279e+09                  0.249500   \nstd     3464.24595                1.953116e+07                  0.432742   \nmin        1.00000                1.338452e+09                  0.000000   \n25%     3000.75000                1.363195e+09                  0.000000   \n50%     6000.50000                1.382888e+09                  0.000000   \n75%     9000.25000                1.398443e+09                  0.000000   \nmax    12000.00000                1.402067e+09                  1.000000   \n\n       enabled_for_marketing_drip        org_id  invited_by_user_id  \\\ncount                12000.000000  12000.000000         6417.000000   \nmean                     0.149333    141.884583         5962.957145   \nstd                      0.356432    124.056723         3383.761968   \nmin                      0.000000      0.000000            3.000000   \n25%                      0.000000     29.000000         3058.000000   \n50%                      0.000000    108.000000         5954.000000   \n75%                      0.000000    238.250000         8817.000000   \nmax                      1.000000    416.000000        11999.000000   \n\n       Engaged_Users  \ncount   12000.000000  \nmean        0.138000  \nstd         0.344914  \nmin         0.000000  \n25%         0.000000  \n50%         0.000000  \n75%         0.000000  \nmax         1.000000  \n"
     ]
    }
   ],
   "source": [
    "users_df['Engaged_Users'] = engaged_user\n",
    "print(users_df.describe())"
   ]
  },
  {
   "cell_type": "code",
   "execution_count": 9,
   "metadata": {},
   "outputs": [
    {
     "name": "stdout",
     "output_type": "stream",
     "text": [
      "<class 'pandas.core.frame.DataFrame'>\nRangeIndex: 12000 entries, 0 to 11999\nData columns (total 8 columns):\nobject_id                     12000 non-null int64\ncreation_time                 12000 non-null object\ncreation_source               12000 non-null object\nlast_session_creation_time    12000 non-null float64\nopted_in_to_mailing_list      12000 non-null int64\nenabled_for_marketing_drip    12000 non-null int64\ninvited_by_user_id            12000 non-null float64\nEngaged_Users                 12000 non-null int64\ndtypes: float64(2), int64(4), object(2)\nmemory usage: 750.1+ KB\nNone\n"
     ]
    },
    {
     "name": "stderr",
     "output_type": "stream",
     "text": [
      "C:\\Users\\npshe\\Anaconda3\\lib\\site-packages\\pandas\\core\\frame.py:2754: SettingWithCopyWarning: \nA value is trying to be set on a copy of a slice from a DataFrame\n\nSee the caveats in the documentation: http://pandas.pydata.org/pandas-docs/stable/indexing.html#indexing-view-versus-copy\n  downcast=downcast, **kwargs)\n"
     ]
    }
   ],
   "source": [
    "user_col_to_keep = ['object_id', 'creation_time','creation_source',\n",
    "       'last_session_creation_time', 'opted_in_to_mailing_list',\n",
    "       'enabled_for_marketing_drip', 'invited_by_user_id', 'Engaged_Users']\n",
    "\n",
    "users_df_ext = users_df[user_col_to_keep]\n",
    "users_df_ext.fillna(0, inplace= True)\n",
    "print(users_df_ext.info())"
   ]
  },
  {
   "cell_type": "code",
   "execution_count": 10,
   "metadata": {},
   "outputs": [
    {
     "name": "stderr",
     "output_type": "stream",
     "text": [
      "C:\\Users\\npshe\\Anaconda3\\lib\\site-packages\\ipykernel_launcher.py:4: SettingWithCopyWarning: \nA value is trying to be set on a copy of a slice from a DataFrame.\nTry using .loc[row_indexer,col_indexer] = value instead\n\nSee the caveats in the documentation: http://pandas.pydata.org/pandas-docs/stable/indexing.html#indexing-view-versus-copy\n  after removing the cwd from sys.path.\nC:\\Users\\npshe\\Anaconda3\\lib\\site-packages\\pandas\\core\\indexing.py:517: SettingWithCopyWarning: \nA value is trying to be set on a copy of a slice from a DataFrame.\nTry using .loc[row_indexer,col_indexer] = value instead\n\nSee the caveats in the documentation: http://pandas.pydata.org/pandas-docs/stable/indexing.html#indexing-view-versus-copy\n  self.obj[item] = s\nC:\\Users\\npshe\\Anaconda3\\lib\\site-packages\\pandas\\core\\frame.py:2352: SettingWithCopyWarning: \nA value is trying to be set on a copy of a slice from a DataFrame.\nTry using .loc[row_indexer,col_indexer] = value instead\n\nSee the caveats in the documentation: http://pandas.pydata.org/pandas-docs/stable/indexing.html#indexing-view-versus-copy\n  self[k1] = value[k2]\n"
     ]
    },
    {
     "name": "stdout",
     "output_type": "stream",
     "text": [
      "   object_id  creation_time creation_source  last_session_creation_time  \\\n0          1       0.946796    GUEST_INVITE                    0.997198   \n1          2       0.730340      ORG_INVITE                    0.995842   \n2          3       0.401302      ORG_INVITE                    0.972660   \n3          4       0.486746    GUEST_INVITE                    0.976566   \n4          5       0.316995    GUEST_INVITE                    0.969176   \n\n   opted_in_to_mailing_list  enabled_for_marketing_drip  invited_by_user_id  \\\n0                         1                           0                   1   \n1                         0                           0                   1   \n2                         0                           0                   1   \n3                         0                           0                   1   \n4                         0                           0                   1   \n\n   Engaged_Users  \n0              0  \n1              1  \n2              0  \n3              0  \n4              0  \n"
     ]
    },
    {
     "name": "stderr",
     "output_type": "stream",
     "text": [
      "C:\\Users\\npshe\\Anaconda3\\lib\\site-packages\\ipykernel_launcher.py:10: SettingWithCopyWarning: \nA value is trying to be set on a copy of a slice from a DataFrame.\nTry using .loc[row_indexer,col_indexer] = value instead\n\nSee the caveats in the documentation: http://pandas.pydata.org/pandas-docs/stable/indexing.html#indexing-view-versus-copy\n  # Remove the CWD from sys.path while we load stuff.\n"
     ]
    }
   ],
   "source": [
    "\n",
    "df = users_df_ext[['creation_time', 'last_session_creation_time']]\n",
    "\n",
    "df['creation_time'] = pd.to_datetime(df['creation_time']).astype('int64')\n",
    "scaler = MinMaxScaler() \n",
    "scaled_values = scaler.fit_transform(df) \n",
    "df.loc[:, :] = scaled_values\n",
    "\n",
    "users_df_ext[['creation_time','last_session_creation_time']] = df\n",
    "users_df_ext['invited_by_user_id'] = np.where(users_df_ext['invited_by_user_id'] < 1, 0, 1)\n",
    "print(users_df_ext.head())"
   ]
  },
  {
   "cell_type": "code",
   "execution_count": 11,
   "metadata": {},
   "outputs": [
    {
     "name": "stdout",
     "output_type": "stream",
     "text": [
      "           creation_time  last_session_creation_time  \\\nobject_id                                              \n1               0.946796                    0.997198   \n2               0.730340                    0.995842   \n3               0.401302                    0.972660   \n4               0.486746                    0.976566   \n5               0.316995                    0.969176   \n\n           opted_in_to_mailing_list  enabled_for_marketing_drip  \\\nobject_id                                                         \n1                                 1                           0   \n2                                 0                           0   \n3                                 0                           0   \n4                                 0                           0   \n5                                 0                           0   \n\n           invited_by_user_id  Engaged_Users  creation_source_GUEST_INVITE  \\\nobject_id                                                                    \n1                           1              0                             1   \n2                           1              1                             0   \n3                           1              0                             0   \n4                           1              0                             1   \n5                           1              0                             1   \n\n           creation_source_ORG_INVITE  creation_source_PERSONAL_PROJECTS  \\\nobject_id                                                                  \n1                                   0                                  0   \n2                                   1                                  0   \n3                                   1                                  0   \n4                                   0                                  0   \n5                                   0                                  0   \n\n           creation_source_SIGNUP  creation_source_SIGNUP_GOOGLE_AUTH  \\\nobject_id                                                               \n1                               0                                   0   \n2                               0                                   0   \n3                               0                                   0   \n4                               0                                   0   \n5                               0                                   0   \n\n           creation_source_nan  \nobject_id                       \n1                            0  \n2                            0  \n3                            0  \n4                            0  \n5                            0  \n"
     ]
    }
   ],
   "source": [
    "\n",
    "df_ind = users_df_ext.set_index('object_id')\n",
    "df_dumb = pd.get_dummies(df_ind.select_dtypes(include=['object']), dummy_na=True)\n",
    "user_dum_version = pd.concat([df_ind.select_dtypes(exclude=['object']), df_dumb], axis=1)\n",
    "\n",
    "print(user_dum_version.head())"
   ]
  },
  {
   "cell_type": "code",
   "execution_count": 12,
   "metadata": {},
   "outputs": [],
   "source": [
    "df_test = user_dum_version.loc[:, user_dum_version.columns != 'Engaged_Users']\n",
    "y = user_dum_version.Engaged_Users\n",
    "x_train,x_test,y_train,y_test = train_test_split(df_test,y,test_size=.2)"
   ]
  },
  {
   "cell_type": "code",
   "execution_count": 13,
   "metadata": {},
   "outputs": [
    {
     "name": "stdout",
     "output_type": "stream",
     "text": [
      "                          column_names  feat_importance\n1           last_session_creation_time         0.761630\n0                        creation_time         0.224477\n7    creation_source_PERSONAL_PROJECTS         0.004614\n2             opted_in_to_mailing_list         0.001989\n3           enabled_for_marketing_drip         0.001974\n9   creation_source_SIGNUP_GOOGLE_AUTH         0.001421\n4                   invited_by_user_id         0.001120\n5         creation_source_GUEST_INVITE         0.001043\n6           creation_source_ORG_INVITE         0.000947\n8               creation_source_SIGNUP         0.000787\n10                 creation_source_nan         0.000000\n"
     ]
    }
   ],
   "source": [
    "\n",
    "\n",
    "scores= []\n",
    "#Train Classifier: Random Forest\n",
    "clf = RandomForestClassifier(n_estimators=8)\n",
    "\n",
    "#Fit classifier to Train data set\n",
    "clf.fit(x_train,y_train)\n",
    "\n",
    "#Predict Proba\n",
    "\n",
    "feat_importance = clf.feature_importances_\n",
    "\n",
    "data = {'column_names': df_test.columns, 'feat_importance': feat_importance}\n",
    "feat_table = pd.DataFrame(data=data).sort_values(by='feat_importance',ascending=False)\n",
    "\n",
    "print(feat_table)"
   ]
  },
  {
   "cell_type": "code",
   "execution_count": 14,
   "metadata": {},
   "outputs": [
    {
     "name": "stdout",
     "output_type": "stream",
     "text": [
      "AUC Score:  0.9075377173533016\n"
     ]
    }
   ],
   "source": [
    "y_predict_test = clf.predict(x_test)\n",
    "\n",
    "\n",
    "auc_test = metrics.roc_auc_score(y_test, y_predict_test)\n",
    "print(\"AUC Score: \",auc_test)"
   ]
  },
  {
   "cell_type": "code",
   "execution_count": null,
   "metadata": {},
   "outputs": [],
   "source": []
  }
 ],
 "metadata": {
  "kernelspec": {
   "display_name": "Python 2",
   "language": "python",
   "name": "python2"
  },
  "language_info": {
   "codemirror_mode": {
    "name": "ipython",
    "version": 2
   },
   "file_extension": ".py",
   "mimetype": "text/x-python",
   "name": "python",
   "nbconvert_exporter": "python",
   "pygments_lexer": "ipython2",
   "version": "2.7.6"
  }
 },
 "nbformat": 4,
 "nbformat_minor": 0
}
